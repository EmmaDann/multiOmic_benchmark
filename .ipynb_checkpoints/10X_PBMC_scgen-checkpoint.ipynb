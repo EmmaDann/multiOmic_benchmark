{
 "cells": [
  {
   "cell_type": "markdown",
   "metadata": {},
   "source": [
    "# scGen for multi-omic integration"
   ]
  },
  {
   "cell_type": "code",
   "execution_count": 1,
   "metadata": {},
   "outputs": [
    {
     "name": "stderr",
     "output_type": "stream",
     "text": [
      "Using TensorFlow backend.\n",
      "/home/jovyan/my-conda-envs/emma_env/lib/python3.7/site-packages/tensorflow/python/framework/dtypes.py:526: FutureWarning: Passing (type, 1) or '1type' as a synonym of type is deprecated; in a future version of numpy, it will be understood as (type, (1,)) / '(1,)type'.\n",
      "  _np_qint8 = np.dtype([(\"qint8\", np.int8, 1)])\n",
      "/home/jovyan/my-conda-envs/emma_env/lib/python3.7/site-packages/tensorflow/python/framework/dtypes.py:527: FutureWarning: Passing (type, 1) or '1type' as a synonym of type is deprecated; in a future version of numpy, it will be understood as (type, (1,)) / '(1,)type'.\n",
      "  _np_quint8 = np.dtype([(\"quint8\", np.uint8, 1)])\n",
      "/home/jovyan/my-conda-envs/emma_env/lib/python3.7/site-packages/tensorflow/python/framework/dtypes.py:528: FutureWarning: Passing (type, 1) or '1type' as a synonym of type is deprecated; in a future version of numpy, it will be understood as (type, (1,)) / '(1,)type'.\n",
      "  _np_qint16 = np.dtype([(\"qint16\", np.int16, 1)])\n",
      "/home/jovyan/my-conda-envs/emma_env/lib/python3.7/site-packages/tensorflow/python/framework/dtypes.py:529: FutureWarning: Passing (type, 1) or '1type' as a synonym of type is deprecated; in a future version of numpy, it will be understood as (type, (1,)) / '(1,)type'.\n",
      "  _np_quint16 = np.dtype([(\"quint16\", np.uint16, 1)])\n",
      "/home/jovyan/my-conda-envs/emma_env/lib/python3.7/site-packages/tensorflow/python/framework/dtypes.py:530: FutureWarning: Passing (type, 1) or '1type' as a synonym of type is deprecated; in a future version of numpy, it will be understood as (type, (1,)) / '(1,)type'.\n",
      "  _np_qint32 = np.dtype([(\"qint32\", np.int32, 1)])\n",
      "/home/jovyan/my-conda-envs/emma_env/lib/python3.7/site-packages/tensorflow/python/framework/dtypes.py:535: FutureWarning: Passing (type, 1) or '1type' as a synonym of type is deprecated; in a future version of numpy, it will be understood as (type, (1,)) / '(1,)type'.\n",
      "  np_resource = np.dtype([(\"resource\", np.ubyte, 1)])\n"
     ]
    }
   ],
   "source": [
    "import scgen\n",
    "import anndata\n",
    "import numpy as np\n",
    "import scanpy as sc\n",
    "import pandas as pd\n",
    "import tensorflow as tf"
   ]
  },
  {
   "cell_type": "markdown",
   "metadata": {},
   "source": [
    "Using PBMC data used in LIGER tutorial (downloaded from [here](https://umich.app.box.com/s/5hkhpou4inrulo570yhc38ay8g3ont5b))"
   ]
  },
  {
   "cell_type": "code",
   "execution_count": 149,
   "metadata": {},
   "outputs": [],
   "source": [
    "train = sc.read_10x_h5('/home/jovyan/10X_data/intPBMC_10x.hdf5')\n",
    "atac_clust = pd.read_csv('/home/jovyan/10X_data/atac_cluster_assignments.csv', )\n",
    "rna_clust = pd.read_csv('/home/jovyan/10X_data/rna_cluster_assignments.csv')\n",
    "        \n",
    "rna_clust.columns = ['cell_id', 'cell_type']\n",
    "atac_clust.columns = ['cell_id', 'cell_type']"
   ]
  },
  {
   "cell_type": "markdown",
   "metadata": {},
   "source": [
    "Add cluster and batch information to `train.obs`"
   ]
  },
  {
   "cell_type": "code",
   "execution_count": 159,
   "metadata": {},
   "outputs": [],
   "source": [
    "train.obs.index.name = 'cell_id'\n",
    "# train.obs.reset_index(inplace=True)\n",
    "# # train.obs=pd.merge(train.obs, rna_clust, how=\"left\", sort=False).set_index('cell_id')\n"
   ]
  },
  {
   "cell_type": "code",
   "execution_count": 160,
   "metadata": {},
   "outputs": [],
   "source": [
    "train_clust = pd.concat([rna_clust, atac_clust])\n",
    "train_clust = train_clust.assign(batch= [np.where(x[:8]==\"pbmc.rna\", \"RNA\", \"ATAC\") for x in train_clust['cell_id']])\n"
   ]
  },
  {
   "cell_type": "code",
   "execution_count": 181,
   "metadata": {},
   "outputs": [
    {
     "data": {
      "text/html": [
       "<div>\n",
       "<style scoped>\n",
       "    .dataframe tbody tr th:only-of-type {\n",
       "        vertical-align: middle;\n",
       "    }\n",
       "\n",
       "    .dataframe tbody tr th {\n",
       "        vertical-align: top;\n",
       "    }\n",
       "\n",
       "    .dataframe thead th {\n",
       "        text-align: right;\n",
       "    }\n",
       "</style>\n",
       "<table border=\"1\" class=\"dataframe\">\n",
       "  <thead>\n",
       "    <tr style=\"text-align: right;\">\n",
       "      <th></th>\n",
       "      <th>index</th>\n",
       "      <th>cell_id</th>\n",
       "      <th>cell_type</th>\n",
       "      <th>batch</th>\n",
       "    </tr>\n",
       "  </thead>\n",
       "  <tbody>\n",
       "    <tr>\n",
       "      <td>0</td>\n",
       "      <td>0.0</td>\n",
       "      <td>pbmc.rna_AAACCCAAGCGCCCAT</td>\n",
       "      <td>CD4 Memory</td>\n",
       "      <td>RNA</td>\n",
       "    </tr>\n",
       "    <tr>\n",
       "      <td>1</td>\n",
       "      <td>NaN</td>\n",
       "      <td>pbmc.rna_AAACCCAAGGTTCCGC</td>\n",
       "      <td>NaN</td>\n",
       "      <td>NaN</td>\n",
       "    </tr>\n",
       "    <tr>\n",
       "      <td>2</td>\n",
       "      <td>1.0</td>\n",
       "      <td>pbmc.rna_AAACCCACAGAGTTGG</td>\n",
       "      <td>CD14+ Monocytes</td>\n",
       "      <td>RNA</td>\n",
       "    </tr>\n",
       "    <tr>\n",
       "      <td>3</td>\n",
       "      <td>2.0</td>\n",
       "      <td>pbmc.rna_AAACCCACAGGTATGG</td>\n",
       "      <td>NK dim</td>\n",
       "      <td>RNA</td>\n",
       "    </tr>\n",
       "    <tr>\n",
       "      <td>4</td>\n",
       "      <td>3.0</td>\n",
       "      <td>pbmc.rna_AAACCCACATAGTCAC</td>\n",
       "      <td>pre-B cell</td>\n",
       "      <td>RNA</td>\n",
       "    </tr>\n",
       "    <tr>\n",
       "      <td>...</td>\n",
       "      <td>...</td>\n",
       "      <td>...</td>\n",
       "      <td>...</td>\n",
       "      <td>...</td>\n",
       "    </tr>\n",
       "    <tr>\n",
       "      <td>20492</td>\n",
       "      <td>NaN</td>\n",
       "      <td>TTTGTGTTCATGCTTT-1</td>\n",
       "      <td>NaN</td>\n",
       "      <td>NaN</td>\n",
       "    </tr>\n",
       "    <tr>\n",
       "      <td>20493</td>\n",
       "      <td>5762.0</td>\n",
       "      <td>TTTGTGTTCCGAGAGA-1</td>\n",
       "      <td>Monocyte</td>\n",
       "      <td>ATAC</td>\n",
       "    </tr>\n",
       "    <tr>\n",
       "      <td>20494</td>\n",
       "      <td>NaN</td>\n",
       "      <td>TTTGTGTTCGAAGCCC-1</td>\n",
       "      <td>NaN</td>\n",
       "      <td>NaN</td>\n",
       "    </tr>\n",
       "    <tr>\n",
       "      <td>20495</td>\n",
       "      <td>5763.0</td>\n",
       "      <td>TTTGTGTTCTACTTTG-1</td>\n",
       "      <td>T cell</td>\n",
       "      <td>ATAC</td>\n",
       "    </tr>\n",
       "    <tr>\n",
       "      <td>20496</td>\n",
       "      <td>5764.0</td>\n",
       "      <td>TTTGTGTTCTTGTGCC-1</td>\n",
       "      <td>Monocyte</td>\n",
       "      <td>ATAC</td>\n",
       "    </tr>\n",
       "  </tbody>\n",
       "</table>\n",
       "<p>20497 rows × 4 columns</p>\n",
       "</div>"
      ],
      "text/plain": [
       "        index                    cell_id        cell_type batch\n",
       "0         0.0  pbmc.rna_AAACCCAAGCGCCCAT       CD4 Memory   RNA\n",
       "1         NaN  pbmc.rna_AAACCCAAGGTTCCGC              NaN   NaN\n",
       "2         1.0  pbmc.rna_AAACCCACAGAGTTGG  CD14+ Monocytes   RNA\n",
       "3         2.0  pbmc.rna_AAACCCACAGGTATGG           NK dim   RNA\n",
       "4         3.0  pbmc.rna_AAACCCACATAGTCAC       pre-B cell   RNA\n",
       "...       ...                        ...              ...   ...\n",
       "20492     NaN         TTTGTGTTCATGCTTT-1              NaN   NaN\n",
       "20493  5762.0         TTTGTGTTCCGAGAGA-1         Monocyte  ATAC\n",
       "20494     NaN         TTTGTGTTCGAAGCCC-1              NaN   NaN\n",
       "20495  5763.0         TTTGTGTTCTACTTTG-1           T cell  ATAC\n",
       "20496  5764.0         TTTGTGTTCTTGTGCC-1         Monocyte  ATAC\n",
       "\n",
       "[20497 rows x 4 columns]"
      ]
     },
     "execution_count": 181,
     "metadata": {},
     "output_type": "execute_result"
    }
   ],
   "source": [
    "pd.merge(train.obs, train_clust, how=\"outer\", left_index=True, right_on=\"cell_id\").reset_index()"
   ]
  },
  {
   "cell_type": "code",
   "execution_count": 175,
   "metadata": {},
   "outputs": [
    {
     "data": {
      "text/html": [
       "<div>\n",
       "<style scoped>\n",
       "    .dataframe tbody tr th:only-of-type {\n",
       "        vertical-align: middle;\n",
       "    }\n",
       "\n",
       "    .dataframe tbody tr th {\n",
       "        vertical-align: top;\n",
       "    }\n",
       "\n",
       "    .dataframe thead th {\n",
       "        text-align: right;\n",
       "    }\n",
       "</style>\n",
       "<table border=\"1\" class=\"dataframe\">\n",
       "  <thead>\n",
       "    <tr style=\"text-align: right;\">\n",
       "      <th></th>\n",
       "    </tr>\n",
       "    <tr>\n",
       "      <th>cell_id</th>\n",
       "    </tr>\n",
       "  </thead>\n",
       "  <tbody>\n",
       "    <tr>\n",
       "      <td>pbmc.rna_AAACCCAAGCGCCCAT</td>\n",
       "    </tr>\n",
       "    <tr>\n",
       "      <td>pbmc.rna_AAACCCAAGGTTCCGC</td>\n",
       "    </tr>\n",
       "    <tr>\n",
       "      <td>pbmc.rna_AAACCCACAGAGTTGG</td>\n",
       "    </tr>\n",
       "    <tr>\n",
       "      <td>pbmc.rna_AAACCCACAGGTATGG</td>\n",
       "    </tr>\n",
       "    <tr>\n",
       "      <td>pbmc.rna_AAACCCACATAGTCAC</td>\n",
       "    </tr>\n",
       "    <tr>\n",
       "      <td>...</td>\n",
       "    </tr>\n",
       "    <tr>\n",
       "      <td>TTTGTGTTCATGCTTT-1</td>\n",
       "    </tr>\n",
       "    <tr>\n",
       "      <td>TTTGTGTTCCGAGAGA-1</td>\n",
       "    </tr>\n",
       "    <tr>\n",
       "      <td>TTTGTGTTCGAAGCCC-1</td>\n",
       "    </tr>\n",
       "    <tr>\n",
       "      <td>TTTGTGTTCTACTTTG-1</td>\n",
       "    </tr>\n",
       "    <tr>\n",
       "      <td>TTTGTGTTCTTGTGCC-1</td>\n",
       "    </tr>\n",
       "  </tbody>\n",
       "</table>\n",
       "<p>20497 rows × 0 columns</p>\n",
       "</div>"
      ],
      "text/plain": [
       "Empty DataFrame\n",
       "Columns: []\n",
       "Index: [pbmc.rna_AAACCCAAGCGCCCAT, pbmc.rna_AAACCCAAGGTTCCGC, pbmc.rna_AAACCCACAGAGTTGG, pbmc.rna_AAACCCACAGGTATGG, pbmc.rna_AAACCCACATAGTCAC, pbmc.rna_AAACCCACATCCAATG, pbmc.rna_AAACCCAGTGGCTACC, pbmc.rna_AAACCCATCCCGAGAC, pbmc.rna_AAACCCATCTGGCCGA, pbmc.rna_AAACCCATCTGTTCAT, pbmc.rna_AAACGAAAGACGACGT, pbmc.rna_AAACGAAAGACGTCGA, pbmc.rna_AAACGAAAGGAGTCTG, pbmc.rna_AAACGAACAAGAATGT, pbmc.rna_AAACGAACAATACCCA, pbmc.rna_AAACGAACACAAGCTT, pbmc.rna_AAACGAACACGACGTC, pbmc.rna_AAACGAAGTCATGCAT, pbmc.rna_AAACGAAGTTATGTCG, pbmc.rna_AAACGAATCTACTTCA, pbmc.rna_AAACGCTAGACAACTA, pbmc.rna_AAACGCTAGAGGTTTA, pbmc.rna_AAACGCTAGCACCAGA, pbmc.rna_AAACGCTAGGCAGGTT, pbmc.rna_AAACGCTAGGTTAAAC, pbmc.rna_AAACGCTAGTATGAAC, pbmc.rna_AAACGCTCAATCCTAG, pbmc.rna_AAACGCTCACGCAAAG, pbmc.rna_AAACGCTCAGTCTTCC, pbmc.rna_AAACGCTCATAGTCAC, pbmc.rna_AAACGCTCATGGATCT, pbmc.rna_AAACGCTGTCAGACGA, pbmc.rna_AAACGCTGTCCCTAAA, pbmc.rna_AAACGCTGTCGATTTG, pbmc.rna_AAACGCTGTCTACATG, pbmc.rna_AAAGAACAGTTCCGTA, pbmc.rna_AAAGAACGTATCCTCC, pbmc.rna_AAAGAACGTATTCCGA, pbmc.rna_AAAGAACGTCTCGGGT, pbmc.rna_AAAGAACGTTTGTTGG, pbmc.rna_AAAGAACTCCTCCACA, pbmc.rna_AAAGAACTCGCGTGCA, pbmc.rna_AAAGAACTCTCATAGG, pbmc.rna_AAAGGATAGCAGTAAT, pbmc.rna_AAAGGATAGTGAATAC, pbmc.rna_AAAGGATCAAACAGGC, pbmc.rna_AAAGGATGTCGGTGAA, pbmc.rna_AAAGGATGTGTCCAAT, pbmc.rna_AAAGGATGTGTGGTCC, pbmc.rna_AAAGGATTCAAGGACG, pbmc.rna_AAAGGATTCATTGTTC, pbmc.rna_AAAGGATTCCTAACAG, pbmc.rna_AAAGGATTCGTAACAC, pbmc.rna_AAAGGATTCTGCGGGT, pbmc.rna_AAAGGATTCTTTGCAT, pbmc.rna_AAAGGGCAGGGACCAT, pbmc.rna_AAAGGGCAGTTCCGGC, pbmc.rna_AAAGGGCCACGTCGTG, pbmc.rna_AAAGGGCCAGGTTCGC, pbmc.rna_AAAGGGCCATCATCCC, pbmc.rna_AAAGGGCGTTACGTAC, pbmc.rna_AAAGGGCTCATTTGGG, pbmc.rna_AAAGGGCTCCAACTGA, pbmc.rna_AAAGGGCTCCTGGGAC, pbmc.rna_AAAGGGCTCTCAAAGC, pbmc.rna_AAAGGGCTCTTCCACG, pbmc.rna_AAAGGTAAGGGTCACA, pbmc.rna_AAAGGTACAAGAATGT, pbmc.rna_AAAGGTACAGCTACAT, pbmc.rna_AAAGGTAGTATTTCTC, pbmc.rna_AAAGGTAGTCTACACA, pbmc.rna_AAAGGTAGTGCTATTG, pbmc.rna_AAAGGTAGTTAAGGAT, pbmc.rna_AAAGGTAGTTGTCATG, pbmc.rna_AAAGGTATCATAGAGA, pbmc.rna_AAAGGTATCGCAGAGA, pbmc.rna_AAAGTCCAGACCAAGC, pbmc.rna_AAAGTCCAGCAGGCTA, pbmc.rna_AAAGTCCAGTCACACT, pbmc.rna_AAAGTCCCAAGCTGTT, pbmc.rna_AAAGTCCCAAGTGGTG, pbmc.rna_AAAGTCCGTCGAAACG, pbmc.rna_AAAGTCCGTTCCCACT, pbmc.rna_AAAGTCCGTTCGGTTA, pbmc.rna_AAAGTCCTCAACTACG, pbmc.rna_AAAGTCCTCAGCGGAA, pbmc.rna_AAAGTCCTCCAAGGGA, pbmc.rna_AAAGTCCTCTGGGTCG, pbmc.rna_AAAGTGAAGAGTGGCT, pbmc.rna_AAAGTGAAGCATGATA, pbmc.rna_AAAGTGAAGCGGGTAT, pbmc.rna_AAAGTGAAGGTACATA, pbmc.rna_AAAGTGACAGATCCTA, pbmc.rna_AAAGTGACATAGGTTC, pbmc.rna_AAAGTGACATCGAACT, pbmc.rna_AAAGTGACATGACGGA, pbmc.rna_AAAGTGACATGCAGCC, pbmc.rna_AAAGTGAGTACCGTCG, pbmc.rna_AAAGTGAGTTAAGACA, pbmc.rna_AAAGTGATCAATGTCG, ...]\n",
       "\n",
       "[20497 rows x 0 columns]"
      ]
     },
     "execution_count": 175,
     "metadata": {},
     "output_type": "execute_result"
    }
   ],
   "source": [
    "train.obs"
   ]
  },
  {
   "cell_type": "code",
   "execution_count": null,
   "metadata": {},
   "outputs": [],
   "source": []
  },
  {
   "cell_type": "code",
   "execution_count": 168,
   "metadata": {},
   "outputs": [
    {
     "data": {
      "text/plain": [
       "15197"
      ]
     },
     "execution_count": 168,
     "metadata": {},
     "output_type": "execute_result"
    }
   ],
   "source": [
    "len(rna_clust.cell_type) + len(atac_clust.cell_type)"
   ]
  },
  {
   "cell_type": "code",
   "execution_count": null,
   "metadata": {},
   "outputs": [],
   "source": []
  }
 ],
 "metadata": {
  "kernelspec": {
   "display_name": "Python [conda env:emma_env]",
   "language": "python",
   "name": "conda-env-emma_env-py"
  },
  "language_info": {
   "codemirror_mode": {
    "name": "ipython",
    "version": 3
   },
   "file_extension": ".py",
   "mimetype": "text/x-python",
   "name": "python",
   "nbconvert_exporter": "python",
   "pygments_lexer": "ipython3",
   "version": "3.7.3"
  }
 },
 "nbformat": 4,
 "nbformat_minor": 2
}
